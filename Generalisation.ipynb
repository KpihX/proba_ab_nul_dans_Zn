{
 "cells": [
  {
   "cell_type": "markdown",
   "metadata": {},
   "source": [
    "# Probability of having $a_1...a_k = 0$ for $(a_1, ..., a_k) \\in (Z/nZ)^k$"
   ]
  },
  {
   "cell_type": "markdown",
   "metadata": {},
   "source": [
    "## Import necessary libraries"
   ]
  },
  {
   "cell_type": "code",
   "execution_count": 1,
   "metadata": {},
   "outputs": [],
   "source": [
    "import numpy as np\n",
    "import matplotlib.pyplot as plt\n",
    "import time\n",
    "import pandas as pd"
   ]
  },
  {
   "cell_type": "markdown",
   "metadata": {},
   "source": [
    "## Function to calculate directly the probability of having $a_1...a_k = 0$ for $(a_1, ..., a_k) \\in (Z/nZ)^k$\n"
   ]
  },
  {
   "cell_type": "code",
   "execution_count": 2,
   "metadata": {},
   "outputs": [],
   "source": [
    "from eval import pro_null_k"
   ]
  },
  {
   "cell_type": "markdown",
   "metadata": {},
   "source": [
    "## Function to calculate that probability using the sum formula : ??? $\\frac{1}{n}\\sum_{d|n} \\frac{\\phi(d)}{d}$ ???\n"
   ]
  },
  {
   "cell_type": "code",
   "execution_count": 3,
   "metadata": {},
   "outputs": [],
   "source": [
    "from eval import sum_formula_k"
   ]
  },
  {
   "cell_type": "markdown",
   "metadata": {},
   "source": [
    "## Function to calculate that probability using the product formula : ??? $\\prod_{k=1}^{m} \\frac{p_k \\cdot (\\alpha_k + 1) - \\alpha_k}{p_k^{\\alpha_k + 1}}$ where $n = \\prod_{k=1}^{m} p_k^{\\alpha_k}$ ???"
   ]
  },
  {
   "cell_type": "code",
   "execution_count": 4,
   "metadata": {},
   "outputs": [],
   "source": [
    "from eval import prod_formula_k"
   ]
  },
  {
   "cell_type": "markdown",
   "metadata": {},
   "source": [
    "## Main calculations and comparisons"
   ]
  },
  {
   "cell_type": "code",
   "execution_count": 7,
   "metadata": {},
   "outputs": [
    {
     "name": "stdout",
     "output_type": "stream",
     "text": [
      "         n Direct Evaluation Formula 1 Result Formula 2 Result\n",
      "         2              0.75             0.75             0.75\n",
      "         3          0.555556         0.555556         0.555556\n",
      "         4               0.5              0.5              0.5\n",
      "         5              0.36             0.36             0.36\n",
      "         6          0.416667         0.416667         0.416667\n",
      "         7          0.265306         0.265306         0.265306\n",
      "         8            0.3125           0.3125           0.3125\n",
      "         9          0.259259         0.259259         0.259259\n",
      "        10              0.27             0.27             0.27\n",
      "        11          0.173554         0.173554         0.173554\n",
      "        12          0.277778         0.277778         0.277778\n",
      "        13          0.147929         0.147929         0.147929\n",
      "        14           0.19898          0.19898          0.19898\n",
      "        15               0.2              0.2              0.2\n",
      "        16            0.1875           0.1875           0.1875\n",
      "        17          0.114187         0.114187         0.114187\n",
      "        18          0.194444         0.194444         0.194444\n",
      "        19          0.102493         0.102493         0.102493\n",
      "        20              0.18             0.18             0.18\n",
      "        21          0.147392         0.147392         0.147392\n",
      "        22          0.130165         0.130165         0.130165\n",
      "        23          0.085066         0.085066         0.085066\n",
      "        24          0.173611         0.173611         0.173611\n",
      "        25             0.104            0.104            0.104\n",
      "        26          0.110947         0.110947         0.110947\n",
      "        27          0.111111         0.111111         0.111111\n",
      "        28          0.132653         0.132653         0.132653\n",
      "        29          0.067776         0.067776         0.067776\n",
      "        30              0.15             0.15             0.15\n",
      "        31          0.063476         0.063476         0.063476\n",
      "        32          0.109375         0.109375         0.109375\n",
      "        33          0.096419         0.096419         0.096419\n",
      "        34           0.08564          0.08564          0.08564\n",
      "        35           0.09551          0.09551          0.09551\n",
      "        36           0.12963          0.12963          0.12963\n",
      "        37          0.053324         0.053324         0.053324\n",
      "        38           0.07687          0.07687          0.07687\n",
      "        39          0.082183         0.082183         0.082183\n",
      "        40            0.1125           0.1125           0.1125\n",
      "        41          0.048186         0.048186         0.048186\n",
      "        42          0.110544         0.110544         0.110544\n",
      "        43          0.045971         0.045971         0.045971\n",
      "        44          0.086777         0.086777         0.086777\n",
      "        45          0.093333         0.093333         0.093333\n",
      "        46            0.0638           0.0638           0.0638\n",
      "        47            0.0421           0.0421           0.0421\n",
      "        48          0.104167         0.104167         0.104167\n",
      "        49          0.055394         0.055394         0.055394\n",
      "        50             0.078            0.078            0.078\n",
      "        51          0.063437         0.063437         0.063437\n",
      "        52          0.073964         0.073964         0.073964\n",
      "        53           0.03738          0.03738          0.03738\n",
      "        54          0.083333         0.083333         0.083333\n",
      "        55          0.062479         0.062479         0.062479\n",
      "        56          0.082908         0.082908         0.082908\n",
      "        57          0.056941         0.056941         0.056941\n",
      "        58          0.050832         0.050832         0.050832\n",
      "        59          0.033611         0.033611         0.033611\n",
      "        60               0.1              0.1              0.1\n",
      "        61          0.032518         0.032518         0.032518\n",
      "        62          0.047607         0.047607         0.047607\n",
      "        63          0.068783         0.068783         0.068783\n",
      "        64            0.0625           0.0625           0.0625\n",
      "        65          0.053254         0.053254         0.053254\n",
      "        66          0.072314         0.072314         0.072314\n",
      "        67          0.029628         0.029628         0.029628\n",
      "        68          0.057093         0.057093         0.057093\n",
      "        69          0.047259         0.047259         0.047259\n",
      "        70          0.071633         0.071633         0.071633\n",
      "        71          0.027971         0.027971         0.027971\n",
      "        72          0.081019         0.081019         0.081019\n",
      "        73           0.02721          0.02721          0.02721\n",
      "        74          0.039993         0.039993         0.039993\n",
      "        75          0.057778         0.057778         0.057778\n",
      "        76          0.051247         0.051247         0.051247\n",
      "        77          0.046045         0.046045         0.046045\n",
      "        78          0.061637         0.061637         0.061637\n",
      "        79          0.025156         0.025156         0.025156\n",
      "        80            0.0675           0.0675           0.0675\n",
      "        81          0.045267         0.045267         0.045267\n",
      "        82          0.036139         0.036139         0.036139\n",
      "        83          0.023951         0.023951         0.023951\n",
      "        84          0.073696         0.073696         0.073696\n",
      "        85          0.041107         0.041107         0.041107\n",
      "        86          0.034478         0.034478         0.034478\n",
      "        87          0.037654         0.037654         0.037654\n",
      "        88          0.054236         0.054236         0.054236\n",
      "        89          0.022346         0.022346         0.022346\n",
      "        90              0.07             0.07             0.07\n",
      "        91          0.039246         0.039246         0.039246\n",
      "        92          0.042533         0.042533         0.042533\n",
      "        93          0.035264         0.035264         0.035264\n",
      "        94          0.031575         0.031575         0.031575\n",
      "        95          0.036898         0.036898         0.036898\n",
      "        96          0.060764         0.060764         0.060764\n",
      "        97          0.020512         0.020512         0.020512\n",
      "        98          0.041545         0.041545         0.041545\n",
      "        99          0.044995         0.044995         0.044995\n",
      "Total Time          0.068432         0.010008         0.006213\n"
     ]
    }
   ],
   "source": [
    "n_values = np.arange(2, 100)  # Example values for n\n",
    "results = np.zeros((len(n_values) + 1, 4), dtype=object)\n",
    "\n",
    "total_direct_time = 0\n",
    "total_formula1_time = 0\n",
    "total_formula2_time = 0\n",
    "\n",
    "for i, n in enumerate(n_values):\n",
    "    start_time = time.time()\n",
    "    direct_count = pro_null_k(n)\n",
    "    direct_time = time.time() - start_time\n",
    "    total_direct_time += direct_time\n",
    "\n",
    "    start_time = time.time()\n",
    "    formula1_result = sum_formula_k(n)\n",
    "    formula1_time = time.time() - start_time\n",
    "    total_formula1_time += formula1_time\n",
    "\n",
    "    start_time = time.time()\n",
    "    formula2_result = prod_formula_k(n)\n",
    "    formula2_time = time.time() - start_time\n",
    "    total_formula2_time += formula2_time\n",
    "\n",
    "    results[i] = [n, direct_count, formula1_result, formula2_result]\n",
    "\n",
    "# Add the total times to the results array\n",
    "results[-1] = ['Total Time', total_direct_time, total_formula1_time, total_formula2_time]\n",
    "\n",
    "# Convert results to a pandas DataFrame for better display\n",
    "columns = ['n', 'Direct Evaluation', 'Sum Formula', 'Product Formula']\n",
    "results_df = pd.DataFrame(results, columns=columns)\n",
    "\n",
    "# Display results in a table\n",
    "pd.set_option('display.max_rows', None)\n",
    "pd.set_option('display.show_dimensions', False)\n",
    "print(results_df.to_string(index=False))\n"
   ]
  },
  {
   "cell_type": "markdown",
   "metadata": {},
   "source": [
    "## Plotting of the results"
   ]
  },
  {
   "cell_type": "code",
   "execution_count": null,
   "metadata": {},
   "outputs": [],
   "source": [
    "plt.figure(figsize=(10, 6))\n",
    "plt.scatter(n_values, results[:-1, 1].astype(float), label='Direct Evaluation')\n",
    "plt.scatter(n_values, results[:-1, 2].astype(float), label='Sum Formula')\n",
    "plt.scatter(n_values, results[:-1, 3].astype(float), label='Product Formula')\n",
    "plt.xlabel('n')\n",
    "plt.ylabel('Probabilty')\n",
    "plt.legend()\n",
    "plt.title('Comparison of Methods of evaluation of the probability of having a1...ak = 0 for (a1, ..., ak) in (Z/nZ)^k')\n",
    "plt.show()"
   ]
  }
 ],
 "metadata": {
  "kernelspec": {
   "display_name": "base",
   "language": "python",
   "name": "python3"
  },
  "language_info": {
   "codemirror_mode": {
    "name": "ipython",
    "version": 3
   },
   "file_extension": ".py",
   "mimetype": "text/x-python",
   "name": "python",
   "nbconvert_exporter": "python",
   "pygments_lexer": "ipython3",
   "version": "3.12.4"
  }
 },
 "nbformat": 4,
 "nbformat_minor": 2
}
